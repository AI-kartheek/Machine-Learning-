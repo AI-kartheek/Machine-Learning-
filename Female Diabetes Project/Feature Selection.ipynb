{
 "cells": [
  {
   "cell_type": "markdown",
   "metadata": {},
   "source": [
    "Here we performed Feature selection for **Diabetes After Feature Engineering** Dataset."
   ]
  },
  {
   "cell_type": "markdown",
   "metadata": {},
   "source": [
    "## Feature Selection Techniques"
   ]
  },
  {
   "cell_type": "code",
   "execution_count": 1,
   "metadata": {},
   "outputs": [
    {
     "data": {
      "text/html": [
       "<div>\n",
       "<style scoped>\n",
       "    .dataframe tbody tr th:only-of-type {\n",
       "        vertical-align: middle;\n",
       "    }\n",
       "\n",
       "    .dataframe tbody tr th {\n",
       "        vertical-align: top;\n",
       "    }\n",
       "\n",
       "    .dataframe thead th {\n",
       "        text-align: right;\n",
       "    }\n",
       "</style>\n",
       "<table border=\"1\" class=\"dataframe\">\n",
       "  <thead>\n",
       "    <tr style=\"text-align: right;\">\n",
       "      <th></th>\n",
       "      <th>Pregnancies</th>\n",
       "      <th>Glucose</th>\n",
       "      <th>BloodPressure</th>\n",
       "      <th>SkinThickness</th>\n",
       "      <th>Insulin</th>\n",
       "      <th>BMI</th>\n",
       "      <th>DiabetesPedigreeFunction</th>\n",
       "      <th>Age</th>\n",
       "      <th>Outcome</th>\n",
       "    </tr>\n",
       "  </thead>\n",
       "  <tbody>\n",
       "    <tr>\n",
       "      <th>0</th>\n",
       "      <td>2.330737</td>\n",
       "      <td>6.205037</td>\n",
       "      <td>36.329902</td>\n",
       "      <td>27.149304</td>\n",
       "      <td>20.023718</td>\n",
       "      <td>5.605497</td>\n",
       "      <td>0.310087</td>\n",
       "      <td>0.870964</td>\n",
       "      <td>1</td>\n",
       "    </tr>\n",
       "    <tr>\n",
       "      <th>1</th>\n",
       "      <td>0.738299</td>\n",
       "      <td>5.390749</td>\n",
       "      <td>33.865339</td>\n",
       "      <td>22.854380</td>\n",
       "      <td>11.929581</td>\n",
       "      <td>5.087564</td>\n",
       "      <td>0.225562</td>\n",
       "      <td>0.863878</td>\n",
       "      <td>0</td>\n",
       "    </tr>\n",
       "    <tr>\n",
       "      <th>2</th>\n",
       "      <td>2.695814</td>\n",
       "      <td>6.527653</td>\n",
       "      <td>33.033688</td>\n",
       "      <td>22.854380</td>\n",
       "      <td>20.067285</td>\n",
       "      <td>4.808004</td>\n",
       "      <td>0.320037</td>\n",
       "      <td>0.864470</td>\n",
       "      <td>1</td>\n",
       "    </tr>\n",
       "    <tr>\n",
       "      <th>3</th>\n",
       "      <td>0.738299</td>\n",
       "      <td>5.456704</td>\n",
       "      <td>33.865339</td>\n",
       "      <td>18.475901</td>\n",
       "      <td>13.590624</td>\n",
       "      <td>5.206304</td>\n",
       "      <td>0.132705</td>\n",
       "      <td>0.854735</td>\n",
       "      <td>0</td>\n",
       "    </tr>\n",
       "    <tr>\n",
       "      <th>4</th>\n",
       "      <td>0.000000</td>\n",
       "      <td>6.089163</td>\n",
       "      <td>22.561724</td>\n",
       "      <td>27.149304</td>\n",
       "      <td>17.924559</td>\n",
       "      <td>6.193787</td>\n",
       "      <td>0.394806</td>\n",
       "      <td>0.865025</td>\n",
       "      <td>1</td>\n",
       "    </tr>\n",
       "  </tbody>\n",
       "</table>\n",
       "</div>"
      ],
      "text/plain": [
       "   Pregnancies   Glucose  BloodPressure  SkinThickness    Insulin       BMI  \\\n",
       "0     2.330737  6.205037      36.329902      27.149304  20.023718  5.605497   \n",
       "1     0.738299  5.390749      33.865339      22.854380  11.929581  5.087564   \n",
       "2     2.695814  6.527653      33.033688      22.854380  20.067285  4.808004   \n",
       "3     0.738299  5.456704      33.865339      18.475901  13.590624  5.206304   \n",
       "4     0.000000  6.089163      22.561724      27.149304  17.924559  6.193787   \n",
       "\n",
       "   DiabetesPedigreeFunction       Age  Outcome  \n",
       "0                  0.310087  0.870964        1  \n",
       "1                  0.225562  0.863878        0  \n",
       "2                  0.320037  0.864470        1  \n",
       "3                  0.132705  0.854735        0  \n",
       "4                  0.394806  0.865025        1  "
      ]
     },
     "execution_count": 1,
     "metadata": {},
     "output_type": "execute_result"
    }
   ],
   "source": [
    "import pandas as pd\n",
    "data = pd.read_csv('datasets/Diabetes After Feature Engineering.csv')\n",
    "data.head()\n"
   ]
  },
  {
   "cell_type": "code",
   "execution_count": 2,
   "metadata": {},
   "outputs": [
    {
     "data": {
      "text/plain": [
       "((614, 8), (154, 8))"
      ]
     },
     "execution_count": 2,
     "metadata": {},
     "output_type": "execute_result"
    }
   ],
   "source": [
    "X = data.drop('Outcome', axis= 1)\n",
    "Y = data['Outcome']\n",
    "\n",
    "from sklearn.model_selection import train_test_split\n",
    "X_train, X_test, y_train, y_test = train_test_split(X,Y, test_size = 0.2, random_state = 0)\n",
    "X_train.shape, X_test.shape"
   ]
  },
  {
   "cell_type": "code",
   "execution_count": 3,
   "metadata": {},
   "outputs": [
    {
     "data": {
      "text/html": [
       "<div>\n",
       "<style scoped>\n",
       "    .dataframe tbody tr th:only-of-type {\n",
       "        vertical-align: middle;\n",
       "    }\n",
       "\n",
       "    .dataframe tbody tr th {\n",
       "        vertical-align: top;\n",
       "    }\n",
       "\n",
       "    .dataframe thead th {\n",
       "        text-align: right;\n",
       "    }\n",
       "</style>\n",
       "<table border=\"1\" class=\"dataframe\">\n",
       "  <thead>\n",
       "    <tr style=\"text-align: right;\">\n",
       "      <th></th>\n",
       "      <th>Pregnancies</th>\n",
       "      <th>Glucose</th>\n",
       "      <th>BloodPressure</th>\n",
       "      <th>SkinThickness</th>\n",
       "      <th>Insulin</th>\n",
       "      <th>BMI</th>\n",
       "      <th>DiabetesPedigreeFunction</th>\n",
       "      <th>Age</th>\n",
       "    </tr>\n",
       "  </thead>\n",
       "  <tbody>\n",
       "    <tr>\n",
       "      <th>603</th>\n",
       "      <td>2.522655</td>\n",
       "      <td>6.225257</td>\n",
       "      <td>38.752350</td>\n",
       "      <td>22.854380</td>\n",
       "      <td>15.645104</td>\n",
       "      <td>5.712516</td>\n",
       "      <td>0.324205</td>\n",
       "      <td>0.871799</td>\n",
       "    </tr>\n",
       "    <tr>\n",
       "      <th>118</th>\n",
       "      <td>1.867137</td>\n",
       "      <td>5.580920</td>\n",
       "      <td>31.354045</td>\n",
       "      <td>18.475901</td>\n",
       "      <td>12.866988</td>\n",
       "      <td>5.214054</td>\n",
       "      <td>0.259198</td>\n",
       "      <td>0.856033</td>\n",
       "    </tr>\n",
       "    <tr>\n",
       "      <th>247</th>\n",
       "      <td>0.000000</td>\n",
       "      <td>6.369532</td>\n",
       "      <td>43.485684</td>\n",
       "      <td>25.725884</td>\n",
       "      <td>24.556112</td>\n",
       "      <td>6.575816</td>\n",
       "      <td>0.253814</td>\n",
       "      <td>0.857217</td>\n",
       "    </tr>\n",
       "    <tr>\n",
       "      <th>157</th>\n",
       "      <td>0.738299</td>\n",
       "      <td>5.750825</td>\n",
       "      <td>29.651155</td>\n",
       "      <td>16.994122</td>\n",
       "      <td>16.166911</td>\n",
       "      <td>4.972240</td>\n",
       "      <td>0.349805</td>\n",
       "      <td>0.857217</td>\n",
       "    </tr>\n",
       "    <tr>\n",
       "      <th>468</th>\n",
       "      <td>2.695814</td>\n",
       "      <td>5.892249</td>\n",
       "      <td>37.546134</td>\n",
       "      <td>24.294427</td>\n",
       "      <td>17.046939</td>\n",
       "      <td>5.350220</td>\n",
       "      <td>0.142543</td>\n",
       "      <td>0.867347</td>\n",
       "    </tr>\n",
       "  </tbody>\n",
       "</table>\n",
       "</div>"
      ],
      "text/plain": [
       "     Pregnancies   Glucose  BloodPressure  SkinThickness    Insulin       BMI  \\\n",
       "603     2.522655  6.225257      38.752350      22.854380  15.645104  5.712516   \n",
       "118     1.867137  5.580920      31.354045      18.475901  12.866988  5.214054   \n",
       "247     0.000000  6.369532      43.485684      25.725884  24.556112  6.575816   \n",
       "157     0.738299  5.750825      29.651155      16.994122  16.166911  4.972240   \n",
       "468     2.695814  5.892249      37.546134      24.294427  17.046939  5.350220   \n",
       "\n",
       "     DiabetesPedigreeFunction       Age  \n",
       "603                  0.324205  0.871799  \n",
       "118                  0.259198  0.856033  \n",
       "247                  0.253814  0.857217  \n",
       "157                  0.349805  0.857217  \n",
       "468                  0.142543  0.867347  "
      ]
     },
     "execution_count": 3,
     "metadata": {},
     "output_type": "execute_result"
    }
   ],
   "source": [
    "X_train.head()"
   ]
  },
  {
   "cell_type": "markdown",
   "metadata": {},
   "source": [
    "## 1) Correlation"
   ]
  },
  {
   "cell_type": "code",
   "execution_count": 4,
   "metadata": {},
   "outputs": [
    {
     "data": {
      "text/plain": [
       "<matplotlib.axes._subplots.AxesSubplot at 0x1e9bdd71c70>"
      ]
     },
     "execution_count": 4,
     "metadata": {},
     "output_type": "execute_result"
    },
    {
     "data": {
      "image/png": "[encoded data removed]",
      "text/plain": [
       "<Figure size 1440x1440 with 2 Axes>"
      ]
     },
     "metadata": {
      "needs_background": "light"
     },
     "output_type": "display_data"
    }
   ],
   "source": [
    "%matplotlib inline\n",
    "import matplotlib.pyplot as plt\n",
    "import seaborn as sns\n",
    "corr= X.corr()\n",
    "top_features=corr.index\n",
    "plt.figure(figsize=(20,20))\n",
    "sns.heatmap(X.corr(),annot=True)\n"
   ]
  },
  {
   "cell_type": "markdown",
   "metadata": {},
   "source": [
    "In the above figure we found out that there are ``no Highly`` correlated features with atleast ``70 or 80%``. So we go for recurssive feature elimination."
   ]
  },
  {
   "cell_type": "code",
   "execution_count": 5,
   "metadata": {},
   "outputs": [],
   "source": [
    "from sklearn.metrics import recall_score,confusion_matrix,classification_report"
   ]
  },
  {
   "cell_type": "code",
   "execution_count": 6,
   "metadata": {},
   "outputs": [],
   "source": [
    "from sklearn.ensemble import RandomForestClassifier,GradientBoostingClassifier\n",
    "import xgboost\n",
    "from sklearn.naive_bayes import GaussianNB"
   ]
  },
  {
   "cell_type": "code",
   "execution_count": 7,
   "metadata": {},
   "outputs": [],
   "source": [
    "#random forest parameters after hyper parameter optimisation.\n",
    "rfc_params = {'class_weight': 'balanced_subsample',\n",
    "              'max_depth': 5,\n",
    "              'max_features': 'log2',\n",
    "              'min_impurity_decrease': 1e-05,\n",
    "              'min_samples_leaf': 9,\n",
    "              'min_samples_split': 2,\n",
    "              'n_estimators': 7,\n",
    "              'random_state': 0,\n",
    "              'n_jobs': -1}"
   ]
  },
  {
   "cell_type": "code",
   "execution_count": 8,
   "metadata": {},
   "outputs": [],
   "source": [
    "RFC_Model = RandomForestClassifier(**rfc_params)\n",
    "GBC_Model = GradientBoostingClassifier(n_estimators =60, learning_rate= 0.5224489795918368, max_depth=3, random_state = 0)\n",
    "XGB_Model = xgboost.XGBClassifier(n_estimators = 16,max_depth = 3, reg_lambda=0.5789473684210527, n_jobs = -1, random_state = 0)"
   ]
  },
  {
   "cell_type": "code",
   "execution_count": null,
   "metadata": {},
   "outputs": [],
   "source": []
  },
  {
   "cell_type": "markdown",
   "metadata": {},
   "source": [
    "## 2) Recurssive Feature Elimination for "
   ]
  },
  {
   "cell_type": "markdown",
   "metadata": {},
   "source": [
    "**A) Random Forest Classifer**"
   ]
  },
  {
   "cell_type": "code",
   "execution_count": 9,
   "metadata": {},
   "outputs": [],
   "source": [
    "from sklearn.feature_selection import RFE"
   ]
  },
  {
   "cell_type": "code",
   "execution_count": 10,
   "metadata": {},
   "outputs": [],
   "source": [
    "def Run_Classification(model, X_train, X_test):\n",
    "    model.fit(X_train, y_train)\n",
    "    y_pred = model.predict(X_test)\n",
    "    print('Recall_Score: ', recall_score(y_test, y_pred))"
   ]
  },
  {
   "cell_type": "code",
   "execution_count": 11,
   "metadata": {},
   "outputs": [
    {
     "name": "stdout",
     "output_type": "stream",
     "text": [
      "Selected Features:  1\n",
      "Recall_Score:  0.6382978723404256\n",
      "\n",
      "Selected Features:  2\n",
      "Recall_Score:  0.574468085106383\n",
      "\n",
      "Selected Features:  3\n",
      "Recall_Score:  0.7446808510638298\n",
      "\n",
      "Selected Features:  4\n",
      "Recall_Score:  0.7872340425531915\n",
      "\n",
      "Selected Features:  5\n",
      "Recall_Score:  0.7659574468085106\n",
      "\n",
      "Selected Features:  6\n",
      "Recall_Score:  0.8723404255319149\n",
      "\n",
      "Selected Features:  7\n",
      "Recall_Score:  0.851063829787234\n",
      "\n",
      "Selected Features:  8\n",
      "Recall_Score:  0.8085106382978723\n",
      "\n"
     ]
    }
   ],
   "source": [
    "for index in range(1, 9):\n",
    "    sel = RFE(estimator= RFC_Model, n_features_to_select = index)\n",
    "    sel.fit(X_train, y_train)\n",
    "    X_train_rfe = sel.transform(X_train)\n",
    "    X_test_rfe = sel.transform(X_test)\n",
    "    print('Selected Features: ', index)\n",
    "    Run_Classification(RFC_Model, X_train_rfe, X_test_rfe)\n",
    "    print()"
   ]
  },
  {
   "cell_type": "markdown",
   "metadata": {},
   "source": [
    "Here No. of ``Features = 6`` gives the ``Recall Score`` of ``87.23``"
   ]
  },
  {
   "cell_type": "markdown",
   "metadata": {},
   "source": [
    "**B) Gradient Boosting Classifier** "
   ]
  },
  {
   "cell_type": "code",
   "execution_count": 12,
   "metadata": {},
   "outputs": [
    {
     "name": "stdout",
     "output_type": "stream",
     "text": [
      "Selected Features:  1\n",
      "Recall_Score:  0.46808510638297873\n",
      "\n",
      "Selected Features:  2\n",
      "Recall_Score:  0.5106382978723404\n",
      "\n",
      "Selected Features:  3\n",
      "Recall_Score:  0.6595744680851063\n",
      "\n",
      "Selected Features:  4\n",
      "Recall_Score:  0.6595744680851063\n",
      "\n",
      "Selected Features:  5\n",
      "Recall_Score:  0.6170212765957447\n",
      "\n",
      "Selected Features:  6\n",
      "Recall_Score:  0.5957446808510638\n",
      "\n",
      "Selected Features:  7\n",
      "Recall_Score:  0.574468085106383\n",
      "\n",
      "Selected Features:  8\n",
      "Recall_Score:  0.7872340425531915\n",
      "\n"
     ]
    }
   ],
   "source": [
    "for index in range(1, 9):\n",
    "    sel = RFE(estimator= GBC_Model, n_features_to_select = index)\n",
    "    sel.fit(X_train, y_train)\n",
    "    X_train_rfe = sel.transform(X_train)\n",
    "    X_test_rfe = sel.transform(X_test)\n",
    "    print('Selected Features: ', index)\n",
    "    Run_Classification(GBC_Model, X_train_rfe, X_test_rfe)\n",
    "    print()"
   ]
  },
  {
   "cell_type": "markdown",
   "metadata": {},
   "source": [
    "For ``features=8`` we get ``Recall Score=78.7``"
   ]
  },
  {
   "cell_type": "markdown",
   "metadata": {},
   "source": [
    "**C) XGBoost Classifier** "
   ]
  },
  {
   "cell_type": "code",
   "execution_count": 13,
   "metadata": {},
   "outputs": [
    {
     "name": "stdout",
     "output_type": "stream",
     "text": [
      "Selected Features:  1\n",
      "Recall_Score:  0.46808510638297873\n",
      "\n",
      "Selected Features:  2\n",
      "Recall_Score:  0.574468085106383\n",
      "\n",
      "Selected Features:  3\n",
      "Recall_Score:  0.6382978723404256\n",
      "\n",
      "Selected Features:  4\n",
      "Recall_Score:  0.6382978723404256\n",
      "\n",
      "Selected Features:  5\n",
      "Recall_Score:  0.6808510638297872\n",
      "\n",
      "Selected Features:  6\n",
      "Recall_Score:  0.7446808510638298\n",
      "\n",
      "Selected Features:  7\n",
      "Recall_Score:  0.723404255319149\n",
      "\n",
      "Selected Features:  8\n",
      "Recall_Score:  0.7659574468085106\n",
      "\n"
     ]
    }
   ],
   "source": [
    "for index in range(1, 9):\n",
    "    sel = RFE(estimator= XGB_Model, n_features_to_select = index)\n",
    "    sel.fit(X_train, y_train)\n",
    "    X_train_rfe = sel.transform(X_train)\n",
    "    X_test_rfe = sel.transform(X_test)\n",
    "    print('Selected Features: ', index)\n",
    "    Run_Classification(XGB_Model, X_train_rfe, X_test_rfe)\n",
    "    print()"
   ]
  },
  {
   "cell_type": "markdown",
   "metadata": {},
   "source": [
    "For ``features=8`` we get ``Recall Score=76.6``"
   ]
  },
  {
   "cell_type": "markdown",
   "metadata": {},
   "source": [
    "# Final Result"
   ]
  },
  {
   "cell_type": "markdown",
   "metadata": {},
   "source": [
    "Hence finally we select ``features=6`` for a **RandomForestClassifier**"
   ]
  },
  {
   "cell_type": "code",
   "execution_count": 14,
   "metadata": {},
   "outputs": [],
   "source": [
    "#random forest parameters after hyper parameter optimisation.\n",
    "rfc_params = {'class_weight': 'balanced_subsample',\n",
    "              'max_depth': 5,\n",
    "              'max_features': 'log2',\n",
    "              'min_impurity_decrease': 1e-05,\n",
    "              'min_samples_leaf': 9,\n",
    "              'min_samples_split': 2,\n",
    "              'n_estimators': 7,\n",
    "              'random_state': 0,\n",
    "              'n_jobs': -1}\n",
    "\n",
    "RFC_Model = RandomForestClassifier(**rfc_params)"
   ]
  },
  {
   "cell_type": "code",
   "execution_count": 15,
   "metadata": {},
   "outputs": [
    {
     "data": {
      "text/plain": [
       "RFE(estimator=RandomForestClassifier(class_weight='balanced_subsample',\n",
       "                                     max_depth=5, max_features='log2',\n",
       "                                     min_impurity_decrease=1e-05,\n",
       "                                     min_samples_leaf=9, n_estimators=7,\n",
       "                                     n_jobs=-1, random_state=0),\n",
       "    n_features_to_select=6)"
      ]
     },
     "execution_count": 15,
     "metadata": {},
     "output_type": "execute_result"
    }
   ],
   "source": [
    "sel = RFE(estimator= RFC_Model, n_features_to_select = 6)\n",
    "sel.fit(X_train, y_train)"
   ]
  },
  {
   "cell_type": "code",
   "execution_count": 16,
   "metadata": {},
   "outputs": [
    {
     "data": {
      "text/plain": [
       "Index(['Glucose', 'SkinThickness', 'Insulin', 'BMI',\n",
       "       'DiabetesPedigreeFunction', 'Age'],\n",
       "      dtype='object')"
      ]
     },
     "execution_count": 16,
     "metadata": {},
     "output_type": "execute_result"
    }
   ],
   "source": [
    "features = X_train.columns[sel.get_support()]\n",
    "features"
   ]
  },
  {
   "cell_type": "code",
   "execution_count": 17,
   "metadata": {},
   "outputs": [],
   "source": [
    "X_train_rfe = sel.transform(X_train)\n",
    "X_test_rfe = sel.transform(X_test)"
   ]
  },
  {
   "cell_type": "code",
   "execution_count": 18,
   "metadata": {},
   "outputs": [
    {
     "data": {
      "text/html": [
       "<div>\n",
       "<style scoped>\n",
       "    .dataframe tbody tr th:only-of-type {\n",
       "        vertical-align: middle;\n",
       "    }\n",
       "\n",
       "    .dataframe tbody tr th {\n",
       "        vertical-align: top;\n",
       "    }\n",
       "\n",
       "    .dataframe thead th {\n",
       "        text-align: right;\n",
       "    }\n",
       "</style>\n",
       "<table border=\"1\" class=\"dataframe\">\n",
       "  <thead>\n",
       "    <tr style=\"text-align: right;\">\n",
       "      <th></th>\n",
       "      <th>Glucose</th>\n",
       "      <th>SkinThickness</th>\n",
       "      <th>Insulin</th>\n",
       "      <th>BMI</th>\n",
       "      <th>DiabetesPedigreeFunction</th>\n",
       "      <th>Age</th>\n",
       "    </tr>\n",
       "  </thead>\n",
       "  <tbody>\n",
       "    <tr>\n",
       "      <th>0</th>\n",
       "      <td>6.225257</td>\n",
       "      <td>22.854380</td>\n",
       "      <td>15.645104</td>\n",
       "      <td>5.712516</td>\n",
       "      <td>0.324205</td>\n",
       "      <td>0.871799</td>\n",
       "    </tr>\n",
       "    <tr>\n",
       "      <th>1</th>\n",
       "      <td>5.580920</td>\n",
       "      <td>18.475901</td>\n",
       "      <td>12.866988</td>\n",
       "      <td>5.214054</td>\n",
       "      <td>0.259198</td>\n",
       "      <td>0.856033</td>\n",
       "    </tr>\n",
       "    <tr>\n",
       "      <th>2</th>\n",
       "      <td>6.369532</td>\n",
       "      <td>25.725884</td>\n",
       "      <td>24.556112</td>\n",
       "      <td>6.575816</td>\n",
       "      <td>0.253814</td>\n",
       "      <td>0.857217</td>\n",
       "    </tr>\n",
       "    <tr>\n",
       "      <th>3</th>\n",
       "      <td>5.750825</td>\n",
       "      <td>16.994122</td>\n",
       "      <td>16.166911</td>\n",
       "      <td>4.972240</td>\n",
       "      <td>0.349805</td>\n",
       "      <td>0.857217</td>\n",
       "    </tr>\n",
       "    <tr>\n",
       "      <th>4</th>\n",
       "      <td>5.892249</td>\n",
       "      <td>24.294427</td>\n",
       "      <td>17.046939</td>\n",
       "      <td>5.350220</td>\n",
       "      <td>0.142543</td>\n",
       "      <td>0.867347</td>\n",
       "    </tr>\n",
       "  </tbody>\n",
       "</table>\n",
       "</div>"
      ],
      "text/plain": [
       "    Glucose  SkinThickness    Insulin       BMI  DiabetesPedigreeFunction  \\\n",
       "0  6.225257      22.854380  15.645104  5.712516                  0.324205   \n",
       "1  5.580920      18.475901  12.866988  5.214054                  0.259198   \n",
       "2  6.369532      25.725884  24.556112  6.575816                  0.253814   \n",
       "3  5.750825      16.994122  16.166911  4.972240                  0.349805   \n",
       "4  5.892249      24.294427  17.046939  5.350220                  0.142543   \n",
       "\n",
       "        Age  \n",
       "0  0.871799  \n",
       "1  0.856033  \n",
       "2  0.857217  \n",
       "3  0.857217  \n",
       "4  0.867347  "
      ]
     },
     "execution_count": 18,
     "metadata": {},
     "output_type": "execute_result"
    }
   ],
   "source": [
    "X_train_rfe = pd.DataFrame(X_train_rfe, columns = features)\n",
    "X_train_rfe.head()"
   ]
  },
  {
   "cell_type": "markdown",
   "metadata": {},
   "source": [
    "## Test Score"
   ]
  },
  {
   "cell_type": "code",
   "execution_count": 19,
   "metadata": {},
   "outputs": [],
   "source": [
    "def Run_Classification(model, X_train, X_test):\n",
    "    model.fit(X_train, y_train)\n",
    "    y_pred = model.predict(X_test)\n",
    "    print('Recall_Score: ', recall_score(y_test, y_pred))\n",
    "    print(classification_report(y_test, y_pred))\n",
    "    print()\n",
    "    print(confusion_matrix(y_test, y_pred))"
   ]
  },
  {
   "cell_type": "code",
   "execution_count": 20,
   "metadata": {},
   "outputs": [
    {
     "name": "stdout",
     "output_type": "stream",
     "text": [
      "Recall_Score:  0.8723404255319149\n",
      "              precision    recall  f1-score   support\n",
      "\n",
      "           0       0.94      0.83      0.88       107\n",
      "           1       0.69      0.87      0.77        47\n",
      "\n",
      "    accuracy                           0.84       154\n",
      "   macro avg       0.82      0.85      0.83       154\n",
      "weighted avg       0.86      0.84      0.85       154\n",
      "\n",
      "\n",
      "[[89 18]\n",
      " [ 6 41]]\n"
     ]
    }
   ],
   "source": [
    "Run_Classification(RFC_Model, X_train_rfe, X_test_rfe)"
   ]
  },
  {
   "cell_type": "markdown",
   "metadata": {},
   "source": [
    "## Training Score"
   ]
  },
  {
   "cell_type": "code",
   "execution_count": 21,
   "metadata": {},
   "outputs": [
    {
     "name": "stdout",
     "output_type": "stream",
     "text": [
      "Train Recall_Score:  0.8642533936651584\n",
      "              precision    recall  f1-score   support\n",
      "\n",
      "           0       0.91      0.76      0.83       393\n",
      "           1       0.67      0.86      0.75       221\n",
      "\n",
      "    accuracy                           0.80       614\n",
      "   macro avg       0.79      0.81      0.79       614\n",
      "weighted avg       0.82      0.80      0.80       614\n",
      "\n",
      "\n",
      "[[298  95]\n",
      " [ 30 191]]\n"
     ]
    }
   ],
   "source": [
    "RFC_Model.fit(X_train_rfe, y_train)\n",
    "y_pred_1 = RFC_Model.predict(X_train_rfe)\n",
    "print('Train Recall_Score: ', recall_score(y_train, y_pred_1))\n",
    "print(classification_report(y_train, y_pred_1))\n",
    "print()\n",
    "print(confusion_matrix(y_train, y_pred_1))"
   ]
  },
  {
   "cell_type": "markdown",
   "metadata": {},
   "source": [
    "Here we got good and also Almost equal for Both ``Train`` and ``Test`` Data **Recall Scores** \n"
   ]
  },
  {
   "cell_type": "code",
   "execution_count": null,
   "metadata": {},
   "outputs": [],
   "source": []
  }
 ],
 "metadata": {
  "kernelspec": {
   "display_name": "Python 3",
   "language": "python",
   "name": "python3"
  },
  "language_info": {
   "codemirror_mode": {
    "name": "ipython",
    "version": 3
   },
   "file_extension": ".py",
   "mimetype": "text/x-python",
   "name": "python",
   "nbconvert_exporter": "python",
   "pygments_lexer": "ipython3",
   "version": "3.8.3"
  }
 },
 "nbformat": 4,
 "nbformat_minor": 4
}
